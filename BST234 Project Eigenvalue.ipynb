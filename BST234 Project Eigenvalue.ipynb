{
 "cells": [
  {
   "cell_type": "code",
   "execution_count": 2,
   "metadata": {},
   "outputs": [],
   "source": [
    "import numpy as np\n",
    "import time\n",
    "import scipy as sp\n",
    "import scipy.linalg\n",
    "from scipy import sparse\n",
    "import scipy.sparse.linalg\n",
    "import random\n",
    "import matplotlib.pyplot as plt\n",
    "import warnings"
   ]
  },
  {
   "cell_type": "code",
   "execution_count": 3,
   "metadata": {},
   "outputs": [],
   "source": [
    "def prep_data():\n",
    "    x = np.loadtxt(\"simulated_genos\", delimiter=\" \", dtype=\"float32\")\n",
    "    y = np.array([[1] * 10000 + [0] * 10000], dtype=\"float32\")\n",
    "    y_c = y - 0.5\n",
    "    return x, y, y_c\n",
    "\n",
    "x, y, y_c = prep_data()"
   ]
  },
  {
   "cell_type": "code",
   "execution_count": 4,
   "metadata": {
    "scrolled": true
   },
   "outputs": [
    {
     "name": "stdout",
     "output_type": "stream",
     "text": [
      "X shape: (20000, 50)\n",
      "Rank of X: 50\n",
      "Number of 1: 953.0\n"
     ]
    }
   ],
   "source": [
    "n = 20000\n",
    "X = x[:,:]\n",
    "print(\"X shape:\", X.shape)\n",
    "print(\"Rank of X:\", np.linalg.matrix_rank(X))\n",
    "print (\"Number of 1:\",np.sum(x))\n",
    "n = X.shape[0]\n",
    "p = X.shape[1]"
   ]
  },
  {
   "cell_type": "markdown",
   "metadata": {},
   "source": [
    "Convert X to CSR format"
   ]
  },
  {
   "cell_type": "code",
   "execution_count": 5,
   "metadata": {},
   "outputs": [],
   "source": [
    "X_sparse = sp.sparse.csr_matrix(X)"
   ]
  },
  {
   "cell_type": "markdown",
   "metadata": {},
   "source": [
    "# SVD"
   ]
  },
  {
   "cell_type": "markdown",
   "metadata": {},
   "source": [
    "Use sp.linalg.svdvals to calculate singular value"
   ]
  },
  {
   "cell_type": "code",
   "execution_count": 6,
   "metadata": {},
   "outputs": [
    {
     "name": "stdout",
     "output_type": "stream",
     "text": [
      "np SVD time 0.3282119132962503\n",
      "X SV: [6.324555  6.171154  6.091167  6.0882163 6.0827622 5.7486973 5.5825267\n",
      " 5.3971276 5.3917594 5.388871  5.385164  5.2915025 5.258997  5.102881\n",
      " 5.052542  5.0031204 4.9999995 4.898985  4.8989787 4.6904163 4.683336\n",
      " 4.582577  4.5481615 4.472136  4.472136  4.4501877 4.2222996 4.116715\n",
      " 4.0000014 4.        3.863798  3.6055512 3.4641018 3.4572375 3.3166246\n",
      " 3.316624  3.1622791 3.162278  3.1622767 3.0000017 2.8284268 2.6457512\n",
      " 2.6457512 2.6457512 2.4494898 2.2360685 2.        2.        1.9899907\n",
      " 1.       ] 50\n",
      "X Eigen: [39.999996  38.08314   37.102314  37.06638   36.999996  33.04752\n",
      " 31.164604  29.128986  29.07107   29.039932  28.999989  27.999998\n",
      " 27.65705   26.039394  25.528183  25.031214  24.999996  24.000053\n",
      " 23.999992  22.000006  21.933634  21.000013  20.685774  20.\n",
      " 20.        19.80417   17.827814  16.947342  16.000011  16.\n",
      " 14.928934  13.        12.000001  11.952491  10.999999  10.999994\n",
      " 10.00001   10.000002   9.999994   9.0000105  7.9999986  6.9999995\n",
      "  6.9999995  6.9999995  6.0000005  5.0000024  4.         4.\n",
      "  3.960063   1.       ]\n",
      "Mean: 238.25001788139343\n"
     ]
    }
   ],
   "source": [
    "start_time = time.clock()\n",
    "for i in range(10):\n",
    "    np_SVD_result = sp.linalg.svdvals(X[:n,:])\n",
    "end_time = time.clock()\n",
    "print(\"np SVD time\", end_time - start_time)\n",
    "print(\"X SV:\", np_SVD_result, len(np_SVD_result))\n",
    "print(\"X Eigen:\",np_SVD_result ** 2)\n",
    "print(\"Mean:\", sum(np_SVD_result ** 2)/4)"
   ]
  },
  {
   "cell_type": "markdown",
   "metadata": {},
   "source": [
    "Use sp.sparse.linalg.svds to calculate singular value"
   ]
  },
  {
   "cell_type": "code",
   "execution_count": 7,
   "metadata": {},
   "outputs": [
    {
     "name": "stdout",
     "output_type": "stream",
     "text": [
      "sp sparse SVD time 0.7978172595979696\n",
      "X_sparse SV: [1.9899871 1.9999968 2.000001  2.236067  2.4494889 2.6457508 2.6457512\n",
      " 2.6457515 2.8284268 2.999999  3.1622775 3.1622777 3.1622777 3.3166242\n",
      " 3.3166244 3.4572372 3.4641016 3.6055515 3.8637974 3.9999995 4.0000005\n",
      " 4.116715  4.2223005 4.4501877 4.472136  4.4721365 4.5481615 4.582576\n",
      " 4.683335  4.6904154 4.89898   4.89898   5.        5.003121  5.0525436\n",
      " 5.102881  5.258997  5.291503  5.3851643 5.3888717 5.39176   5.3971276\n",
      " 5.5825267 5.7486978 6.0827622 6.088215  6.091167  6.1711535 6.324554 ]\n"
     ]
    }
   ],
   "source": [
    "start_time = time.clock()\n",
    "for i in range(10):\n",
    "    sp_SVD_result = sparse.linalg.svds(X_sparse, k = 49)\n",
    "end_time = time.clock()\n",
    "print(\"sp sparse SVD time\", end_time - start_time)\n",
    "print(\"X_sparse SV:\", sp_SVD_result[1])"
   ]
  },
  {
   "cell_type": "code",
   "execution_count": 8,
   "metadata": {
    "scrolled": false
   },
   "outputs": [
    {
     "name": "stdout",
     "output_type": "stream",
     "text": [
      "[39.999985, 38.083138, 37.102314, 37.06636, 36.999996, 33.047527, 31.164604, 29.128986, 29.071075, 29.039938, 28.999994, 28.000004, 27.65705, 26.039394, 25.528196, 25.03122, 25.0, 24.000006, 24.000006, 21.999996, 21.933624, 21.0, 20.685774, 20.000006, 20.0, 19.80417, 17.827822, 16.947342, 16.000004, 15.999996, 14.92893, 13.000002, 12.0, 11.952489, 10.999997, 10.999996, 10.0, 10.0, 9.999999, 8.999994, 7.9999986, 7.000001, 6.9999995, 6.999997, 5.9999957, 4.9999957, 4.000004, 3.9999871, 3.960049]\n"
     ]
    }
   ],
   "source": [
    "print(sorted((sp_SVD_result[1])**2, reverse = True))"
   ]
  },
  {
   "cell_type": "markdown",
   "metadata": {},
   "source": [
    "# Eigenvalue"
   ]
  },
  {
   "cell_type": "markdown",
   "metadata": {},
   "source": [
    "This standard implementation of scipy.sparse.eigvals is a wrapper of the software [**ARPACK**](http://www.caam.rice.edu/software/ARPACK/\n",
    ").\n",
    "The method is Implicitly Restarted Arnoldi Methods. See detail of this in [ARPACK User Guide](http://li.mit.edu/Archive/Activities/Archive/CourseWork/Ju_Li/MITCourses/18.335/Doc/ARPACK/Lehoucq97.pdf)."
   ]
  },
  {
   "cell_type": "markdown",
   "metadata": {},
   "source": [
    "Calculate $XX^T$"
   ]
  },
  {
   "cell_type": "code",
   "execution_count": 9,
   "metadata": {},
   "outputs": [],
   "source": [
    "XX_t = X  @ X.T\n",
    "#np.linalg.matrix_rank(XX_t)"
   ]
  },
  {
   "cell_type": "code",
   "execution_count": 1,
   "metadata": {},
   "outputs": [
    {
     "ename": "NameError",
     "evalue": "name 'XX_t' is not defined",
     "output_type": "error",
     "traceback": [
      "\u001b[1;31m---------------------------------------------------------------------------\u001b[0m",
      "\u001b[1;31mNameError\u001b[0m                                 Traceback (most recent call last)",
      "\u001b[1;32m<ipython-input-1-77c91cb272c5>\u001b[0m in \u001b[0;36m<module>\u001b[1;34m()\u001b[0m\n\u001b[1;32m----> 1\u001b[1;33m \u001b[0mtype\u001b[0m\u001b[1;33m(\u001b[0m\u001b[0mXX_t\u001b[0m\u001b[1;33m)\u001b[0m\u001b[1;33m\u001b[0m\u001b[0m\n\u001b[0m\u001b[0;32m      2\u001b[0m \u001b[0mprint\u001b[0m\u001b[1;33m(\u001b[0m\u001b[0mXX_t\u001b[0m\u001b[1;33m.\u001b[0m\u001b[0mshape\u001b[0m\u001b[1;33m)\u001b[0m\u001b[1;33m\u001b[0m\u001b[0m\n\u001b[0;32m      3\u001b[0m \u001b[0mprint\u001b[0m\u001b[1;33m(\u001b[0m\u001b[0mXX_t\u001b[0m\u001b[1;33m)\u001b[0m\u001b[1;33m\u001b[0m\u001b[0m\n\u001b[0;32m      4\u001b[0m \u001b[0mprint\u001b[0m\u001b[1;33m(\u001b[0m\u001b[1;34m\"Sum of XX^T\"\u001b[0m\u001b[1;33m,\u001b[0m \u001b[0mnp\u001b[0m\u001b[1;33m.\u001b[0m\u001b[0msum\u001b[0m\u001b[1;33m(\u001b[0m\u001b[0mXX_t\u001b[0m\u001b[1;33m)\u001b[0m\u001b[1;33m)\u001b[0m\u001b[1;33m\u001b[0m\u001b[0m\n",
      "\u001b[1;31mNameError\u001b[0m: name 'XX_t' is not defined"
     ]
    }
   ],
   "source": [
    "type(XX_t)\n",
    "print(XX_t.shape)\n",
    "print(XX_t)\n",
    "print(\"Sum of XX^T\", np.sum(XX_t))"
   ]
  },
  {
   "cell_type": "markdown",
   "metadata": {},
   "source": [
    "Use scipy.linalg.eigvals to calculate eigenvalue"
   ]
  },
  {
   "cell_type": "code",
   "execution_count": 22,
   "metadata": {},
   "outputs": [],
   "source": [
    "start_time = time.clock()\n",
    "ev = sp.linalg.eigvals(XX_t)\n",
    "end_time = time.clock()\n",
    "print(\"numpy Eigen Time:\", end_time - start_time)"
   ]
  },
  {
   "cell_type": "code",
   "execution_count": 23,
   "metadata": {},
   "outputs": [
    {
     "name": "stdout",
     "output_type": "stream",
     "text": [
      "numpy Eigen Time: 89.63207738364702\n"
     ]
    }
   ],
   "source": [
    "ev = sorted(np.real(ev), reverse=True)"
   ]
  },
  {
   "cell_type": "code",
   "execution_count": 24,
   "metadata": {},
   "outputs": [
    {
     "name": "stdout",
     "output_type": "stream",
     "text": [
      "[40.00016, 38.08318, 37.102364, 37.06637, 37.000046, 33.047585, 31.164608, 29.128963, 29.071026, 29.04003, 29.000072, 27.999949, 27.657042, 26.039454, 25.52822, 25.03121, 25.000042, 24.000017, 24.000011, 22.000015, 21.933619, 21.000021, 20.685772, 20.000021, 20.00002, 19.804165, 17.827856, 16.947296, 16.000011, 15.999988, 14.928966, 13.000019, 12.000004, 11.952526, 11.000026, 11.000006, 9.999998, 9.99999, 9.999983, 9.000001, 7.9999933, 7.0000095, 7.0000076, 7.0, 6.000024, 5.0000033, 3.999998, 3.9999948, 3.9600687, 1.0]\n"
     ]
    },
    {
     "data": {
      "text/plain": [
       "238.25018620491028"
      ]
     },
     "execution_count": 24,
     "metadata": {},
     "output_type": "execute_result"
    }
   ],
   "source": [
    "print(ev[:50])\n",
    "sum(ev[:50])/4"
   ]
  },
  {
   "cell_type": "markdown",
   "metadata": {},
   "source": [
    "Use sp.sparse.linalg.eigs to calculate eigenvalue"
   ]
  },
  {
   "cell_type": "code",
   "execution_count": 13,
   "metadata": {},
   "outputs": [
    {
     "name": "stderr",
     "output_type": "stream",
     "text": [
      "C:\\Users\\songdongyuan\\Anaconda3\\lib\\site-packages\\ipykernel_launcher.py:2: VisibleDeprecationWarning: `rank` is deprecated; use the `ndim` attribute or function instead. To find the rank of a matrix see `numpy.linalg.matrix_rank`.\n",
      "  \n"
     ]
    },
    {
     "name": "stdout",
     "output_type": "stream",
     "text": [
      "Sparse Eigen Time: 0.4209739003844817\n",
      "[40.00009, 38.0832, 37.102425, 37.066383, 36.999996, 33.047543, 31.164667, 29.12903, 29.071125, 29.039948, 29.0, 28.000029, 27.657076, 26.039392, 25.528198, 25.031212, 25.000002, 24.000017, 24.000006, 22.000006, 21.933622, 20.999989, 20.685759, 20.0, 19.999977, 19.804165, 17.827816, 16.947361, 16.00001, 15.9999895, 14.928922, 12.999985, 12.000008, 11.952486, 10.999998, 10.99999, 10.000014, 10.0, 9.999995, 9.000008, 8.000005, 7.0000014, 7.0, 6.9999967, 5.999999, 5.0000052, 4.0000024, 4.0000005, 3.9600654, 0.9999981]\n"
     ]
    }
   ],
   "source": [
    "XX_t_sparse = X_sparse @ X_sparse.T\n",
    "sp.rank(XX_t_sparse)\n",
    "start_time = time.clock()\n",
    "ev_sparse = sparse.linalg.eigs(XX_t_sparse, k=50)\n",
    "end_time = time.clock()\n",
    "print(\"Sparse Eigen Time:\", end_time - start_time)\n",
    "ev_sparse = np.real(ev_sparse[0])\n",
    "print(sorted(ev_sparse, reverse=True))"
   ]
  },
  {
   "cell_type": "code",
   "execution_count": 25,
   "metadata": {},
   "outputs": [
    {
     "data": {
      "text/plain": [
       "238.2501277923584"
      ]
     },
     "execution_count": 25,
     "metadata": {},
     "output_type": "execute_result"
    }
   ],
   "source": [
    "sum(ev_sparse / 4)"
   ]
  },
  {
   "cell_type": "markdown",
   "metadata": {},
   "source": [
    "# irlbpy (SVD)"
   ]
  },
  {
   "cell_type": "markdown",
   "metadata": {},
   "source": [
    "Try to implement **irlbpy**"
   ]
  },
  {
   "cell_type": "markdown",
   "metadata": {},
   "source": [
    "[IRLB method](https://epubs.siam.org/doi/abs/10.1137/04060593X)"
   ]
  },
  {
   "cell_type": "code",
   "execution_count": 26,
   "metadata": {},
   "outputs": [],
   "source": [
    "# Matrix-vector product wrapper\n",
    "# A is a numpy 2d array or matrix, or a scipy matrix or sparse matrix.\n",
    "# x is a numpy vector only.\n",
    "# Compute A.dot(x) if t is False,\n",
    "#         A.transpose().dot(x)  otherwise.\n",
    "def mult(A,x,t=False):\n",
    "  if(sparse.issparse(A)):\n",
    "    m = A.shape[0]\n",
    "    n = A.shape[1]\n",
    "    if(t):\n",
    "      return(sparse.csr_matrix(x).dot(A).transpose().todense().A[:,0])\n",
    "    return(A.dot(sparse.csr_matrix(x).transpose()).todense().A[:,0])\n",
    "  if(t):\n",
    "    return(x.dot(A))\n",
    "  return(A.dot(x))\n",
    "\n",
    "def orthog(Y,X):\n",
    "  \"\"\"Orthogonalize a vector or matrix Y against the columns of the matrix X.\n",
    "  This function requires that the column dimension of Y is less than X and\n",
    "  that Y and X have the same number of rows.\n",
    "  \"\"\"\n",
    "  dotY = mult(X,Y,t=True)\n",
    "  return (Y - mult(X,dotY))\n",
    "\n",
    "# Simple utility function used to check linear dependencies during computation:\n",
    "def invcheck(x):\n",
    "  eps2  = 2*np.finfo(np.float).eps\n",
    "  if(x>eps2):\n",
    "    x = 1/x\n",
    "  else:\n",
    "    x = 0\n",
    "    #warnings.warn(\"Ill-conditioning encountered, result accuracy may be poor\")\n",
    "  return(x)\n",
    "\n",
    "def irlb(A,n,tol=0.0001,maxit=50):\n",
    "  \"\"\"Estimate a few of the largest singular values and corresponding singular\n",
    "  vectors of matrix using the implicitly restarted Lanczos bidiagonalization\n",
    "  method of Baglama and Reichel, see:\n",
    "\n",
    "  Augmented Implicitly Restarted Lanczos Bidiagonalization Methods,\n",
    "  J. Baglama and L. Reichel, SIAM J. Sci. Comput. 2005\n",
    "\n",
    "  Keyword arguments:\n",
    "  tol   -- An estimation tolerance. Smaller means more accurate estimates.\n",
    "  maxit -- Maximum number of Lanczos iterations allowed.\n",
    "\n",
    "  Given an input matrix A of dimension j * k, and an input desired number\n",
    "  of singular values n, the function returns a tuple X with five entries:\n",
    "\n",
    "  X[0] A j * nu matrix of estimated left singular vectors.\n",
    "  X[1] A vector of length nu of estimated singular values.\n",
    "  X[2] A k * nu matrix of estimated right singular vectors.\n",
    "  X[3] The number of Lanczos iterations run.\n",
    "  X[4] The number of matrix-vector products run.\n",
    "\n",
    "  The algorithm estimates the truncated singular value decomposition:\n",
    "  A.dot(X[2]) = X[0]*X[1].\n",
    "  \"\"\"\n",
    "  nu     = n\n",
    "  m      = A.shape[0]\n",
    "  n      = A.shape[1]\n",
    "  if(min(m,n)<2):\n",
    "    raise Exception(\"The input matrix must be at least 2x2.\")\n",
    "  m_b    = min((nu+20, 3*nu, n))  # Working dimension size\n",
    "  mprod  = 0\n",
    "  it     = 0\n",
    "  j      = 0\n",
    "  k      = nu\n",
    "  smax   = 1\n",
    "  ifsparse = sparse.issparse(A)\n",
    "\n",
    "  V  = np.zeros((n,m_b))\n",
    "  W  = np.zeros((m,m_b))\n",
    "  F  = np.zeros((n,1))\n",
    "  B  = np.zeros((m_b,m_b))\n",
    "\n",
    "  V[:,0]  = np.random.randn(n) # Initial vector\n",
    "  V[:,0]  = V[:,0]/np.linalg.norm(V)\n",
    "\n",
    "  while(it < maxit):\n",
    "    if(it>0): j=k\n",
    "    W[:,j] = mult(A,V[:,j])\n",
    "    mprod+=1\n",
    "    if(it>0):\n",
    "      W[:,j] = orthog(W[:,j],W[:,0:j]) # NB W[:,0:j] selects columns 0,1,...,j-1\n",
    "    s = np.linalg.norm(W[:,j])\n",
    "    sinv = invcheck(s)\n",
    "    W[:,j] = sinv*W[:,j]\n",
    "    # Lanczos process\n",
    "    while(j<m_b):\n",
    "      F = mult(A,W[:,j],t=True)\n",
    "      mprod+=1\n",
    "      F = F - s*V[:,j]\n",
    "      F = orthog(F,V[:,0:j+1])\n",
    "      fn = np.linalg.norm(F)\n",
    "      fninv= invcheck(fn)\n",
    "      F  = fninv * F\n",
    "      if(j<m_b-1):\n",
    "        V[:,j+1] = F\n",
    "        B[j,j] = s\n",
    "        B[j,j+1] = fn \n",
    "        W[:,j+1] = mult(A,V[:,j+1])\n",
    "        mprod+=1\n",
    "        # One step of classical Gram-Schmidt...\n",
    "        W[:,j+1] = W[:,j+1] - fn*W[:,j]\n",
    "        # ...with full reorthogonalization\n",
    "        W[:,j+1] = orthog(W[:,j+1],W[:,0:(j+1)])\n",
    "        s = np.linalg.norm(W[:,j+1])\n",
    "        sinv = invcheck(s) \n",
    "        W[:,j+1] = sinv * W[:,j+1]\n",
    "      else:\n",
    "        B[j,j] = s\n",
    "      j+=1\n",
    "    # End of Lanczos process\n",
    "    S    = np.linalg.svd(B)\n",
    "    R    = fn * S[0][m_b-1,:] # Residuals\n",
    "    if(it<1):\n",
    "      smax = S[1][0]  # Largest Ritz value\n",
    "    else:\n",
    "      smax = max((S[1][0],smax))\n",
    "\n",
    "    conv = sum(np.abs(R[0:nu]) < tol*smax)\n",
    "    if(conv < nu):  # Not coverged yet\n",
    "      k = max(conv+nu,k)\n",
    "      k = min(k,m_b-3)\n",
    "    else:\n",
    "      break\n",
    "    # Update the Ritz vectors\n",
    "    V[:,0:k] = V[:,0:m_b].dot(S[2].transpose()[:,0:k])\n",
    "    V[:,k] = F \n",
    "    B = np.zeros((m_b,m_b))\n",
    "    # Improve this! There must be better way to assign diagonal...\n",
    "    for l in range(0,k):\n",
    "      B[l,l] = S[1][l]\n",
    "    B[0:k,k] = R[0:k]\n",
    "    # Update the left approximate singular vectors\n",
    "    W[:,0:k] = W[:,0:m_b].dot(S[0][:,0:k])\n",
    "    it+=1\n",
    "\n",
    "  U = W[:,0:m_b].dot(S[0][:,0:nu])\n",
    "  V = V[:,0:m_b].dot(S[2].transpose()[:,0:nu])\n",
    "  return((U,S[1][0:nu],V,it,mprod))"
   ]
  },
  {
   "cell_type": "markdown",
   "metadata": {},
   "source": [
    "Check the result of **irlbpy**"
   ]
  },
  {
   "cell_type": "code",
   "execution_count": 27,
   "metadata": {
    "scrolled": true
   },
   "outputs": [],
   "source": [
    "result_X = irlb(X, 50)"
   ]
  },
  {
   "cell_type": "code",
   "execution_count": 28,
   "metadata": {
    "scrolled": true
   },
   "outputs": [
    {
     "data": {
      "text/plain": [
       "array([6.32455532, 6.17115224, 6.09116741, 6.08821591, 6.08276253,\n",
       "       5.74869651, 5.58252703, 5.39712732, 5.39175925, 5.38887151,\n",
       "       5.38516481, 5.29150262, 5.2589973 , 5.1028813 , 5.05254332,\n",
       "       5.00312107, 5.        , 4.89897949, 4.89897949, 4.69041576,\n",
       "       4.68333503, 4.58257569, 4.54816118, 4.47213595, 4.47213595,\n",
       "       4.45018781, 4.22230026, 4.11671501, 4.        , 4.        ,\n",
       "       3.86379764, 3.60555128, 3.46410162, 3.45723711, 3.31662479,\n",
       "       3.31662479, 3.16227766, 3.16227766, 3.16227766, 3.        ,\n",
       "       2.82842712, 2.64575131, 2.64575131, 2.64575131, 2.44948974,\n",
       "       2.23606798, 2.        , 2.        , 1.9899909 , 1.        ])"
      ]
     },
     "execution_count": 28,
     "metadata": {},
     "output_type": "execute_result"
    }
   ],
   "source": [
    "result_X[1]"
   ]
  },
  {
   "cell_type": "code",
   "execution_count": 29,
   "metadata": {
    "scrolled": true
   },
   "outputs": [
    {
     "name": "stdout",
     "output_type": "stream",
     "text": [
      "Time of irlbpy: 5.598269184738456\n"
     ]
    },
    {
     "data": {
      "text/plain": [
       "array([6.32455532, 6.17115224, 6.09116741, 6.08821591, 6.08276253,\n",
       "       5.74869651, 5.58252703, 5.39712732, 5.39175925, 5.38887151,\n",
       "       5.38516481, 5.29150262, 5.2589973 , 5.1028813 , 5.05254332,\n",
       "       5.00312107, 5.        , 4.89897949, 4.89897949, 4.69041576,\n",
       "       4.68333503, 4.58257569, 4.54816118, 4.47213595, 4.47213595,\n",
       "       4.45018781, 4.22230026, 4.11671501, 4.        , 4.        ,\n",
       "       3.86379764, 3.60555128, 3.46410162, 3.45723711, 3.31662479,\n",
       "       3.31662479, 3.16227766, 3.16227766, 3.16227766, 3.        ,\n",
       "       2.82842712, 2.64575131, 2.64575131, 2.64575131, 2.44948974,\n",
       "       2.23606798, 2.        , 2.        , 1.9899909 , 1.        ])"
      ]
     },
     "execution_count": 29,
     "metadata": {},
     "output_type": "execute_result"
    }
   ],
   "source": [
    "start_time = time.clock()\n",
    "for i in range(10):\n",
    "    result_X_sparse = irlb(X_sparse, 50)\n",
    "end_time = time.clock()\n",
    "print(\"Time of irlbpy:\", end_time - start_time)\n",
    "result_X_sparse[1]"
   ]
  },
  {
   "cell_type": "code",
   "execution_count": 30,
   "metadata": {
    "scrolled": true
   },
   "outputs": [
    {
     "name": "stdout",
     "output_type": "stream",
     "text": [
      "[40.         38.08311991 37.10232046 37.06637298 37.         33.04751155\n",
      " 31.16460799 29.12898331 29.07106781 29.0399362  29.         28.\n",
      " 27.65705259 26.03939761 25.52819398 25.03122049 25.         24.\n",
      " 24.         22.         21.93362702 21.         20.68577012 20.\n",
      " 20.         19.80417152 17.82781952 16.9473425  16.         16.\n",
      " 14.92893219 13.         12.         11.95248845 11.         11.\n",
      " 10.         10.         10.          9.          8.          7.\n",
      "  7.          7.          6.          5.          4.          4.\n",
      "  3.9600638   1.        ]\n",
      "238.24999999999991\n"
     ]
    }
   ],
   "source": [
    "print(result_X_sparse[1] ** 2)\n",
    "print(sum(result_X_sparse[1] ** 2)/4)"
   ]
  },
  {
   "cell_type": "markdown",
   "metadata": {},
   "source": [
    "The result is quite fine, although it is time consuming."
   ]
  }
 ],
 "metadata": {
  "kernelspec": {
   "display_name": "Python 3",
   "language": "python",
   "name": "python3"
  },
  "language_info": {
   "codemirror_mode": {
    "name": "ipython",
    "version": 3
   },
   "file_extension": ".py",
   "mimetype": "text/x-python",
   "name": "python",
   "nbconvert_exporter": "python",
   "pygments_lexer": "ipython3",
   "version": "3.6.4"
  }
 },
 "nbformat": 4,
 "nbformat_minor": 2
}
