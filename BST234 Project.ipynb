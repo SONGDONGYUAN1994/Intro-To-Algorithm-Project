{
 "cells": [
  {
   "cell_type": "code",
   "execution_count": 3,
   "metadata": {},
   "outputs": [],
   "source": [
    "import numpy as np\n",
    "import time\n",
    "from scipy import sparse"
   ]
  },
  {
   "cell_type": "code",
   "execution_count": 4,
   "metadata": {},
   "outputs": [],
   "source": [
    "def prep_data():\n",
    "    x = np.loadtxt(\"D:\\MS\\Master Course\\BST234\\Project\\simulated_genos\", delimiter=\" \", dtype=\"float32\")\n",
    "    y = np.array([[1] * 10000 + [0] * 10000], dtype=\"float32\")\n",
    "    y_c = y - 0.5\n",
    "    return x, y_c"
   ]
  },
  {
   "cell_type": "code",
   "execution_count": 7,
   "metadata": {},
   "outputs": [],
   "source": [
    "x, y_c = prep_data()"
   ]
  },
  {
   "cell_type": "code",
   "execution_count": 8,
   "metadata": {},
   "outputs": [],
   "source": [
    "start_time = time.clock()\n",
    "xxt = np.dot(x, x.T)\n",
    "end_time = time.clock()"
   ]
  },
  {
   "cell_type": "code",
   "execution_count": 10,
   "metadata": {},
   "outputs": [
    {
     "name": "stdout",
     "output_type": "stream",
     "text": [
      "xxt computation time:  11.151171219834172\n"
     ]
    }
   ],
   "source": [
    "print('xxt computation time: ', end_time - start_time)"
   ]
  },
  {
   "cell_type": "markdown",
   "metadata": {},
   "source": [
    "Using numpy to calculate the $Y'(XX^T)Y'^T$"
   ]
  },
  {
   "cell_type": "code",
   "execution_count": 106,
   "metadata": {},
   "outputs": [
    {
     "name": "stdout",
     "output_type": "stream",
     "text": [
      "original q computation time:  0.30096302810034103\n",
      "[223.25]\n"
     ]
    }
   ],
   "source": [
    "start_time = time.clock()\n",
    "q0 = y_c.dot(xxt)\n",
    "q2 = (q0 * y_c).sum(axis=1)\n",
    "end_time = time.clock()\n",
    "print('original q computation time: ', end_time - start_time)\n",
    "print(q2)"
   ]
  },
  {
   "cell_type": "markdown",
   "metadata": {},
   "source": [
    "Convert $ X X^T$ to a sparse matrix"
   ]
  },
  {
   "cell_type": "code",
   "execution_count": 104,
   "metadata": {},
   "outputs": [
    {
     "name": "stdout",
     "output_type": "stream",
     "text": [
      "covert to sparse time:  6.685302162813059\n"
     ]
    }
   ],
   "source": [
    "start_time = time.clock()\n",
    "xxt_sparse = sparse.csr_matrix(xxt)\n",
    "end_time = time.clock()\n",
    "print('covert to sparse time: ', end_time - start_time)"
   ]
  },
  {
   "cell_type": "markdown",
   "metadata": {},
   "source": [
    "Using scipy.sparse to calculate"
   ]
  },
  {
   "cell_type": "code",
   "execution_count": 107,
   "metadata": {},
   "outputs": [
    {
     "name": "stdout",
     "output_type": "stream",
     "text": [
      "sparse computation time:  0.009833800746037014\n",
      "[223.25]\n"
     ]
    }
   ],
   "source": [
    "start_time = time.clock()\n",
    "\n",
    "q00 = y_c @ xxt_sparse\n",
    "q11 = (y_c * q00).sum(axis=1) \n",
    "\n",
    "end_time = time.clock()\n",
    "print('sparse computation time: ', end_time - start_time)\n",
    "print(q11)"
   ]
  }
 ],
 "metadata": {
  "kernelspec": {
   "display_name": "Python 3",
   "language": "python",
   "name": "python3"
  },
  "language_info": {
   "codemirror_mode": {
    "name": "ipython",
    "version": 3
   },
   "file_extension": ".py",
   "mimetype": "text/x-python",
   "name": "python",
   "nbconvert_exporter": "python",
   "pygments_lexer": "ipython3",
   "version": "3.6.4"
  }
 },
 "nbformat": 4,
 "nbformat_minor": 2
}
