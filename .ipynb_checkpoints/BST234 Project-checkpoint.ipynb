{
 "cells": [
  {
   "cell_type": "code",
   "execution_count": 18,
   "metadata": {},
   "outputs": [],
   "source": [
    "import numpy as np\n",
    "import time\n",
    "from scipy import sparse\n",
    "import random\n",
    "import matplotlib.pyplot as plt"
   ]
  },
  {
   "cell_type": "code",
   "execution_count": 4,
   "metadata": {},
   "outputs": [],
   "source": [
    "def prep_data():\n",
    "    x = np.loadtxt(\"D:\\MS\\Master Course\\BST234\\Project\\simulated_genos\", delimiter=\" \", dtype=\"float32\")\n",
    "    y = np.array([[1] * 10000 + [0] * 10000], dtype=\"float32\")\n",
    "    y_c = y - 0.5\n",
    "    return x, y_c"
   ]
  },
  {
   "cell_type": "code",
   "execution_count": 5,
   "metadata": {},
   "outputs": [],
   "source": [
    "x, y_c = prep_data()"
   ]
  },
  {
   "cell_type": "code",
   "execution_count": 6,
   "metadata": {},
   "outputs": [
    {
     "data": {
      "text/plain": [
       "array([[ 0.5,  0.5,  0.5, ..., -0.5, -0.5, -0.5]], dtype=float32)"
      ]
     },
     "execution_count": 6,
     "metadata": {},
     "output_type": "execute_result"
    }
   ],
   "source": [
    "y_c"
   ]
  },
  {
   "cell_type": "code",
   "execution_count": 7,
   "metadata": {},
   "outputs": [],
   "source": [
    "start_time = time.clock()\n",
    "xxt = np.dot(x, x.T)\n",
    "end_time = time.clock()"
   ]
  },
  {
   "cell_type": "code",
   "execution_count": 8,
   "metadata": {},
   "outputs": [
    {
     "name": "stdout",
     "output_type": "stream",
     "text": [
      "xxt computation time:  12.023855756131299\n"
     ]
    }
   ],
   "source": [
    "print('xxt computation time: ', end_time - start_time)"
   ]
  },
  {
   "cell_type": "markdown",
   "metadata": {},
   "source": [
    "Using numpy to calculate the $Y'(XX^T)Y'^T$"
   ]
  },
  {
   "cell_type": "code",
   "execution_count": 9,
   "metadata": {},
   "outputs": [
    {
     "name": "stdout",
     "output_type": "stream",
     "text": [
      "original q computation time:  2.0975188085092586\n",
      "[223.25]\n"
     ]
    }
   ],
   "source": [
    "start_time = time.clock()\n",
    "q0 = y_c.dot(xxt)\n",
    "q2 = (q0 * y_c).sum(axis=1)\n",
    "end_time = time.clock()\n",
    "print('original q computation time: ', end_time - start_time)\n",
    "print(q2)"
   ]
  },
  {
   "cell_type": "markdown",
   "metadata": {},
   "source": [
    "Convert $ X X^T$ to a sparse matrix"
   ]
  },
  {
   "cell_type": "code",
   "execution_count": 10,
   "metadata": {},
   "outputs": [
    {
     "name": "stdout",
     "output_type": "stream",
     "text": [
      "covert to sparse time:  9.73876684104511\n"
     ]
    }
   ],
   "source": [
    "start_time = time.clock()\n",
    "xxt_sparse = sparse.csr_matrix(xxt)\n",
    "end_time = time.clock()\n",
    "print('covert to sparse time: ', end_time - start_time)"
   ]
  },
  {
   "cell_type": "markdown",
   "metadata": {},
   "source": [
    "Using scipy.sparse to calculate"
   ]
  },
  {
   "cell_type": "code",
   "execution_count": 12,
   "metadata": {},
   "outputs": [
    {
     "name": "stdout",
     "output_type": "stream",
     "text": [
      "sparse computation time:  0.0012684783763461382\n",
      "[223.25]\n"
     ]
    }
   ],
   "source": [
    "start_time = time.clock()\n",
    "\n",
    "q00 = y_c @ xxt_sparse\n",
    "q11 = (y_c * q00).sum(axis=1) \n",
    "\n",
    "end_time = time.clock()\n",
    "print('sparse computation time: ', end_time - start_time)\n",
    "print(q11)"
   ]
  },
  {
   "cell_type": "code",
   "execution_count": 13,
   "metadata": {
    "scrolled": false
   },
   "outputs": [
    {
     "name": "stdout",
     "output_type": "stream",
     "text": [
      "original 1000 q computation time:  158.70266278059165\n"
     ]
    }
   ],
   "source": [
    "start_time = time.clock()\n",
    "y_cc = y_c.T\n",
    "for i in range(1000):\n",
    "# you can try to forbid shuffle here. See time change.\n",
    "    #np.random.shuffle(y_cc)\n",
    "    q0 = y_cc.T.dot(xxt)\n",
    "    q2 = (q0 * y_cc.T).sum(axis=1)\n",
    "    #print(q2)\n",
    "end_time = time.clock()\n",
    "print('original 1000 q computation time: ', end_time - start_time)"
   ]
  },
  {
   "cell_type": "code",
   "execution_count": 101,
   "metadata": {},
   "outputs": [
    {
     "data": {
      "text/plain": [
       "array([[ 0.5],\n",
       "       [ 0.5],\n",
       "       [ 0.5],\n",
       "       ...,\n",
       "       [-0.5],\n",
       "       [-0.5],\n",
       "       [ 0.5]], dtype=float32)"
      ]
     },
     "execution_count": 101,
     "metadata": {},
     "output_type": "execute_result"
    }
   ],
   "source": [
    "y_cc"
   ]
  },
  {
   "cell_type": "code",
   "execution_count": 17,
   "metadata": {},
   "outputs": [
    {
     "name": "stdout",
     "output_type": "stream",
     "text": [
      "[223.25]\n",
      "[223.25]\n",
      "[223.25]\n",
      "[223.25]\n",
      "[223.25]\n",
      "[223.25]\n",
      "[223.25]\n",
      "[223.25]\n",
      "[223.25]\n",
      "[223.25]\n",
      "sparse 1000 q computation time:  0.31275565300609287\n"
     ]
    }
   ],
   "source": [
    "start_time = time.clock()\n",
    "y_cc = y_c.T\n",
    "for i in range(1000):\n",
    "# you can try to forbid shuffle here. See time change.\n",
    "    #numpy.random.choicenp.random.shuffle(y_cc)\n",
    "    q00 = y_cc.T @ xxt_sparse\n",
    "    q11 = (y_cc.T * q00).sum(axis=1) \n",
    "    if i % 100 == 0:\n",
    "        print(q11)\n",
    "end_time = time.clock()\n",
    "print('sparse 1000 q computation time: ', end_time - start_time)"
   ]
  },
  {
   "cell_type": "code",
   "execution_count": 18,
   "metadata": {},
   "outputs": [
    {
     "name": "stdout",
     "output_type": "stream",
     "text": [
      "shuffle once time of random.shuffle:  0.04801913853549422\n"
     ]
    }
   ],
   "source": [
    "start_time = time.clock()\n",
    "np.random.shuffle(y_cc)\n",
    "end_time = time.clock()\n",
    "print('shuffle once time of random.shuffle: ', end_time - start_time)"
   ]
  },
  {
   "cell_type": "markdown",
   "metadata": {},
   "source": [
    "Very embarrasing thing here is that shuffling is the most time consuming thing!!!"
   ]
  },
  {
   "cell_type": "code",
   "execution_count": 19,
   "metadata": {},
   "outputs": [
    {
     "name": "stdout",
     "output_type": "stream",
     "text": [
      "shuffle once time of random.permutation:  0.04323023799861403\n"
     ]
    }
   ],
   "source": [
    "start_time = time.clock()\n",
    "np.random.permutation(y_cc)\n",
    "end_time = time.clock()\n",
    "print('shuffle once time of random.permutation: ', end_time - start_time)"
   ]
  },
  {
   "cell_type": "code",
   "execution_count": 20,
   "metadata": {},
   "outputs": [
    {
     "data": {
      "text/plain": [
       "(20000, 1)"
      ]
     },
     "execution_count": 20,
     "metadata": {},
     "output_type": "execute_result"
    }
   ],
   "source": [
    "y_cc.shape"
   ]
  },
  {
   "cell_type": "code",
   "execution_count": 23,
   "metadata": {},
   "outputs": [
    {
     "data": {
      "text/plain": [
       "(1, 20000)"
      ]
     },
     "execution_count": 23,
     "metadata": {},
     "output_type": "execute_result"
    }
   ],
   "source": [
    "y_c.shape"
   ]
  },
  {
   "cell_type": "code",
   "execution_count": 40,
   "metadata": {},
   "outputs": [
    {
     "name": "stdout",
     "output_type": "stream",
     "text": [
      "shuffle once time of random.int:  0.0018431976407100592\n"
     ]
    }
   ],
   "source": [
    "start_time = time.clock()\n",
    "y_cc[np.random.choice(20000, size = 10000, replace = False)] = 1\n",
    "\n",
    "end_time = time.clock()\n",
    "print('shuffle once time of random.int: ', end_time - start_time)"
   ]
  },
  {
   "cell_type": "code",
   "execution_count": 63,
   "metadata": {},
   "outputs": [
    {
     "name": "stdout",
     "output_type": "stream",
     "text": [
      "[202.25]\n",
      "[216.25]\n",
      "[159.25]\n",
      "[233.25]\n",
      "[186.25]\n",
      "[211.25]\n",
      "[253.25]\n",
      "[224.25]\n",
      "[247.25]\n",
      "[246.25]\n",
      "sparse 1000 q computation time, choice:  1.6444958150452749\n"
     ]
    }
   ],
   "source": [
    "start_time = time.clock()\n",
    "z = np.zeros((20000, 1))\n",
    "for i in range(1000):\n",
    "    y_cc = np.zeros((20000, 1)) - 0.5\n",
    "    y_cc[np.random.choice(20000, size = 10000, replace = False)] = 0.5\n",
    "    q00 = y_cc.T @ xxt_sparse\n",
    "    q11 = (y_cc.T * q00).sum(axis=1) \n",
    "    if i % 100 == 0:\n",
    "        print(q11)\n",
    "end_time = time.clock()\n",
    "print('sparse 1000 q computation time, choice: ', end_time - start_time)"
   ]
  },
  {
   "cell_type": "code",
   "execution_count": 61,
   "metadata": {
    "scrolled": true
   },
   "outputs": [
    {
     "data": {
      "text/plain": [
       "array([5000.])"
      ]
     },
     "execution_count": 61,
     "metadata": {},
     "output_type": "execute_result"
    }
   ],
   "source": [
    "sum(y_cc)"
   ]
  },
  {
   "cell_type": "code",
   "execution_count": 62,
   "metadata": {},
   "outputs": [
    {
     "data": {
      "text/plain": [
       "array([[ 1. ],\n",
       "       [ 1. ],\n",
       "       [ 1. ],\n",
       "       ...,\n",
       "       [-0.5],\n",
       "       [ 1. ],\n",
       "       [-0.5]])"
      ]
     },
     "execution_count": 62,
     "metadata": {},
     "output_type": "execute_result"
    }
   ],
   "source": [
    "y_cc"
   ]
  },
  {
   "cell_type": "code",
   "execution_count": 58,
   "metadata": {},
   "outputs": [
    {
     "data": {
      "text/plain": [
       "(20000, 1)"
      ]
     },
     "execution_count": 58,
     "metadata": {},
     "output_type": "execute_result"
    }
   ],
   "source": [
    "z.shape"
   ]
  },
  {
   "cell_type": "markdown",
   "metadata": {},
   "source": [
    "Fianl Test! See the 1000 permutations here!"
   ]
  },
  {
   "cell_type": "code",
   "execution_count": 39,
   "metadata": {},
   "outputs": [
    {
     "name": "stdout",
     "output_type": "stream",
     "text": [
      "Whole permutation time  3.189767010431524\n"
     ]
    }
   ],
   "source": [
    "start_time = time.clock()\n",
    "\n",
    "x = np.loadtxt(\"D:\\MS\\Master Course\\BST234\\Project\\simulated_genos\", delimiter=\" \", dtype=\"float32\")\n",
    "x_sparse = sparse.csr_matrix(x)\n",
    "xxt_sparse = x_sparse @ x_sparse.transpose()\n",
    "q = np.empty((1000, 1))\n",
    "\n",
    "for i in range(1000):\n",
    "    y_cc = np.zeros((20000, 1)) - 0.5\n",
    "    y_cc[np.random.choice(20000, size = 10000, replace = False)] = 0.5\n",
    "    q[i,0] = y_cc.T @ xxt_sparse @ y_cc\n",
    "    #q00 = y_cc.T @ xxt_sparse\n",
    "    #q11 = (y_cc.T * q00).sum(axis=1) \n",
    "end_time = time.clock()\n",
    "\n",
    "print('Whole permutation time ', end_time - start_time)"
   ]
  },
  {
   "cell_type": "code",
   "execution_count": 38,
   "metadata": {},
   "outputs": [
    {
     "data": {
      "text/plain": [
       "(array([  25.,  485., 2091., 3160., 2575., 1114.,  410.,  114.,   18.,\n",
       "           8.]),\n",
       " array([ 74.25, 116.75, 159.25, 201.75, 244.25, 286.75, 329.25, 371.75,\n",
       "        414.25, 456.75, 499.25]),\n",
       " <a list of 10 Patch objects>)"
      ]
     },
     "execution_count": 38,
     "metadata": {},
     "output_type": "execute_result"
    },
    {
     "data": {
      "image/png": "[encoded data removed]",
      "text/plain": [
       "<matplotlib.figure.Figure at 0x1f1537baba8>"
      ]
     },
     "metadata": {},
     "output_type": "display_data"
    }
   ],
   "source": [
    "plt.hist(q)"
   ]
  }
 ],
 "metadata": {
  "kernelspec": {
   "display_name": "Python 3",
   "language": "python",
   "name": "python3"
  },
  "language_info": {
   "codemirror_mode": {
    "name": "ipython",
    "version": 3
   },
   "file_extension": ".py",
   "mimetype": "text/x-python",
   "name": "python",
   "nbconvert_exporter": "python",
   "pygments_lexer": "ipython3",
   "version": "3.6.4"
  }
 },
 "nbformat": 4,
 "nbformat_minor": 2
}
