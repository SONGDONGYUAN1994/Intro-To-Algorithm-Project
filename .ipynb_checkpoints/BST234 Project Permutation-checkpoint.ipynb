{
 "cells": [
  {
   "cell_type": "code",
   "execution_count": 1,
   "metadata": {},
   "outputs": [],
   "source": [
    "import numpy as np\n",
    "import time\n",
    "from scipy import sparse\n",
    "import random\n",
    "import matplotlib.pyplot as plt\n",
    "from scipy.sparse import csr_matrix\n",
    "from scipy.sparse import linalg as lg"
   ]
  },
  {
   "cell_type": "code",
   "execution_count": 2,
   "metadata": {},
   "outputs": [],
   "source": [
    "def prep_data():\n",
    "    x = np.loadtxt(simulated_genos\", delimiter=\" \", dtype=\"int32\")\n",
    "    y = np.array([[1] * 10000 + [0] * 10000], dtype=\"float32\")\n",
    "    y_c = y - 0.5\n",
    "    return x, y_c"
   ]
  },
  {
   "cell_type": "markdown",
   "metadata": {},
   "source": [
    "# Permutation Test"
   ]
  },
  {
   "cell_type": "code",
   "execution_count": 3,
   "metadata": {},
   "outputs": [],
   "source": [
    "x, y_c = prep_data()"
   ]
  },
  {
   "cell_type": "code",
   "execution_count": 4,
   "metadata": {},
   "outputs": [
    {
     "data": {
      "text/plain": [
       "array([[ 0.5,  0.5,  0.5, ..., -0.5, -0.5, -0.5]], dtype=float32)"
      ]
     },
     "execution_count": 4,
     "metadata": {},
     "output_type": "execute_result"
    }
   ],
   "source": [
    "y_c"
   ]
  },
  {
   "cell_type": "code",
   "execution_count": null,
   "metadata": {},
   "outputs": [],
   "source": [
    "start_time = time.clock()\n",
    "xxt = np.dot(x, x.T)\n",
    "end_time = time.clock()"
   ]
  },
  {
   "cell_type": "code",
   "execution_count": null,
   "metadata": {
    "scrolled": true
   },
   "outputs": [],
   "source": [
    "print('xxt computation time: ', end_time - start_time)"
   ]
  },
  {
   "cell_type": "code",
   "execution_count": null,
   "metadata": {
    "scrolled": false
   },
   "outputs": [],
   "source": [
    "np.savetxt(\"XXT\",xxt[1:100, 1:100])"
   ]
  },
  {
   "cell_type": "code",
   "execution_count": null,
   "metadata": {},
   "outputs": [],
   "source": [
    "np.set_printoptions(threshold=np.nan)"
   ]
  },
  {
   "cell_type": "code",
   "execution_count": null,
   "metadata": {},
   "outputs": [],
   "source": [
    "xxt[1:100, 1:100]"
   ]
  },
  {
   "cell_type": "markdown",
   "metadata": {},
   "source": [
    "Using numpy to calculate the $Y'(XX^T)Y'^T$"
   ]
  },
  {
   "cell_type": "code",
   "execution_count": null,
   "metadata": {},
   "outputs": [],
   "source": [
    "start_time = time.clock()\n",
    "q0 = y_c.dot(xxt)\n",
    "q2 = (q0 * y_c).sum(axis=1)\n",
    "end_time = time.clock()\n",
    "print('original q computation time: ', end_time - start_time)\n",
    "print(q2)"
   ]
  },
  {
   "cell_type": "markdown",
   "metadata": {},
   "source": [
    "Convert $ X X^T$ to a sparse matrix"
   ]
  },
  {
   "cell_type": "code",
   "execution_count": null,
   "metadata": {},
   "outputs": [],
   "source": [
    "start_time = time.clock()\n",
    "xxt_sparse = sparse.csr_matrix(xxt)\n",
    "end_time = time.clock()\n",
    "print('covert to sparse time: ', end_time - start_time)"
   ]
  },
  {
   "cell_type": "markdown",
   "metadata": {},
   "source": [
    "Using scipy.sparse to calculate"
   ]
  },
  {
   "cell_type": "code",
   "execution_count": null,
   "metadata": {},
   "outputs": [],
   "source": [
    "start_time = time.clock()\n",
    "\n",
    "q00 = y_c @ xxt_sparse\n",
    "q11 = (y_c * q00).sum(axis=1) \n",
    "\n",
    "end_time = time.clock()\n",
    "print('sparse computation time: ', end_time - start_time)\n",
    "print(q11)"
   ]
  },
  {
   "cell_type": "code",
   "execution_count": null,
   "metadata": {
    "scrolled": false
   },
   "outputs": [],
   "source": [
    "start_time = time.clock()\n",
    "y_cc = y_c.T\n",
    "for i in range(1000):\n",
    "# you can try to forbid shuffle here. See time change.\n",
    "    #np.random.shuffle(y_cc)\n",
    "    q0 = y_cc.T.dot(xxt)\n",
    "    q2 = (q0 * y_cc.T).sum(axis=1)\n",
    "    #print(q2)\n",
    "end_time = time.clock()\n",
    "print('original 1000 q computation time: ', end_time - start_time)"
   ]
  },
  {
   "cell_type": "code",
   "execution_count": null,
   "metadata": {},
   "outputs": [],
   "source": [
    "y_cc"
   ]
  },
  {
   "cell_type": "code",
   "execution_count": null,
   "metadata": {},
   "outputs": [],
   "source": [
    "start_time = time.clock()\n",
    "y_cc = y_c.T\n",
    "for i in range(1000):\n",
    "# you can try to forbid shuffle here. See time change.\n",
    "    #numpy.random.choicenp.random.shuffle(y_cc)\n",
    "    q00 = y_cc.T @ xxt_sparse\n",
    "    q11 = (y_cc.T * q00).sum(axis=1) \n",
    "    if i % 100 == 0:\n",
    "        print(q11)\n",
    "end_time = time.clock()\n",
    "print('sparse 1000 q computation time: ', end_time - start_time)"
   ]
  },
  {
   "cell_type": "code",
   "execution_count": null,
   "metadata": {},
   "outputs": [],
   "source": [
    "start_time = time.clock()\n",
    "np.random.shuffle(y_cc)\n",
    "end_time = time.clock()\n",
    "print('shuffle once time of random.shuffle: ', end_time - start_time)"
   ]
  },
  {
   "cell_type": "markdown",
   "metadata": {},
   "source": [
    "Very embarrasing thing here is that shuffling is the most time consuming thing!!!"
   ]
  },
  {
   "cell_type": "code",
   "execution_count": null,
   "metadata": {},
   "outputs": [],
   "source": [
    "start_time = time.clock()\n",
    "np.random.permutation(y_cc)\n",
    "end_time = time.clock()\n",
    "print('shuffle once time of random.permutation: ', end_time - start_time)"
   ]
  },
  {
   "cell_type": "code",
   "execution_count": null,
   "metadata": {},
   "outputs": [],
   "source": [
    "y_cc.shape"
   ]
  },
  {
   "cell_type": "code",
   "execution_count": null,
   "metadata": {},
   "outputs": [],
   "source": [
    "y_c.shape"
   ]
  },
  {
   "cell_type": "code",
   "execution_count": null,
   "metadata": {},
   "outputs": [],
   "source": [
    "start_time = time.clock()\n",
    "y_cc[np.random.choice(20000, size = 10000, replace = False)] = 1\n",
    "\n",
    "end_time = time.clock()\n",
    "print('shuffle once time of random.int: ', end_time - start_time)"
   ]
  },
  {
   "cell_type": "code",
   "execution_count": null,
   "metadata": {},
   "outputs": [],
   "source": [
    "start_time = time.clock()\n",
    "z = np.zeros((20000, 1))\n",
    "for i in range(1000):\n",
    "    y_cc = np.zeros((20000, 1)) - 0.5\n",
    "    y_cc[np.random.choice(20000, size = 10000, replace = False)] = 0.5\n",
    "    q00 = y_cc.T @ xxt_sparse\n",
    "    q11 = (y_cc.T * q00).sum(axis=1) \n",
    "    if i % 100 == 0:\n",
    "        print(q11)\n",
    "end_time = time.clock()\n",
    "print('sparse 1000 q computation time, choice: ', end_time - start_time)"
   ]
  },
  {
   "cell_type": "code",
   "execution_count": null,
   "metadata": {
    "scrolled": true
   },
   "outputs": [],
   "source": [
    "sum(y_cc)"
   ]
  },
  {
   "cell_type": "code",
   "execution_count": null,
   "metadata": {},
   "outputs": [],
   "source": [
    "y_cc"
   ]
  },
  {
   "cell_type": "code",
   "execution_count": null,
   "metadata": {},
   "outputs": [],
   "source": [
    "z.shape"
   ]
  },
  {
   "cell_type": "markdown",
   "metadata": {},
   "source": [
    "Fianl Test! See the 1000 permutations here!"
   ]
  },
  {
   "cell_type": "code",
   "execution_count": 18,
   "metadata": {},
   "outputs": [
    {
     "name": "stdout",
     "output_type": "stream",
     "text": [
      "Whole permutation time  1302.4799451818908\n"
     ]
    }
   ],
   "source": [
    "start_time = time.clock()\n",
    "\n",
    "m = 1000\n",
    "x = np.loadtxt(\"D:\\MS\\Master Course\\BST234\\Project\\simulated_genos\", delimiter=\" \", dtype=\"float32\")\n",
    "x_sparse = sparse.csr_matrix(x)\n",
    "xxt_sparse = x_sparse @ x_sparse.transpose()\n",
    "q = np.empty((m, 1))\n",
    "\n",
    "for i in range(m):\n",
    "    y_cc = np.zeros((20000, 1)) - 0.5\n",
    "    y_cc[np.random.choice(20000, size = 10000, replace = False)] = 0.5\n",
    "    q[i,0] = y_cc.T @ xxt_sparse @ y_cc\n",
    "    #q00 = y_cc.T @ xxt_sparse\n",
    "    #q11 = (y_cc.T * q00).sum(axis=1) \n",
    "end_time = time.clock()\n",
    "\n",
    "print('Whole permutation time ', end_time - start_time)\n"
   ]
  },
  {
   "cell_type": "code",
   "execution_count": 19,
   "metadata": {
    "scrolled": true
   },
   "outputs": [
    {
     "name": "stdout",
     "output_type": "stream",
     "text": [
      "Expectation: 238.09496\n"
     ]
    },
    {
     "data": {
      "text/plain": [
       "(array([2.18400e+03, 8.69950e+04, 3.42244e+05, 3.52618e+05, 1.65028e+05,\n",
       "        4.26060e+04, 7.28800e+03, 9.31000e+02, 9.50000e+01, 1.10000e+01]),\n",
       " array([ 63.25, 116.95, 170.65, 224.35, 278.05, 331.75, 385.45, 439.15,\n",
       "        492.85, 546.55, 600.25]),\n",
       " <a list of 10 Patch objects>)"
      ]
     },
     "execution_count": 19,
     "metadata": {},
     "output_type": "execute_result"
    },
    {
     "data": {
      "image/png": "[encoded data removed]",
      "text/plain": [
       "<matplotlib.figure.Figure at 0x1de6f42c438>"
      ]
     },
     "metadata": {},
     "output_type": "display_data"
    }
   ],
   "source": [
    "print(\"Expectation:\", np.average(q))\n",
    "plt.hist(q)"
   ]
  },
  {
   "cell_type": "markdown",
   "metadata": {},
   "source": [
    "# Eigenvalue Calculation"
   ]
  }
 ],
 "metadata": {
  "kernelspec": {
   "display_name": "Python 3",
   "language": "python",
   "name": "python3"
  },
  "language_info": {
   "codemirror_mode": {
    "name": "ipython",
    "version": 3
   },
   "file_extension": ".py",
   "mimetype": "text/x-python",
   "name": "python",
   "nbconvert_exporter": "python",
   "pygments_lexer": "ipython3",
   "version": "3.6.4"
  }
 },
 "nbformat": 4,
 "nbformat_minor": 2
}
