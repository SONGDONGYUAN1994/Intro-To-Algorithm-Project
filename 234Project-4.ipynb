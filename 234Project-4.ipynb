{
 "cells": [
  {
   "cell_type": "code",
   "execution_count": null,
   "metadata": {},
   "outputs": [],
   "source": [
    "import numpy as np\n",
    "import time\n",
    "import scipy as sp\n",
    "from scipy import sparse\n",
    "import random\n",
    "import matplotlib.pyplot as plt\n",
    "import scipy.sparse.linalg as lg"
   ]
  },
  {
   "cell_type": "code",
   "execution_count": 2,
   "metadata": {},
   "outputs": [],
   "source": [
    "def prep_data():\n",
    "    x = np.loadtxt(\"simulated_genos\", delimiter=\" \", dtype=\"float32\")\n",
    "    y = np.array([[1] * 10000 + [0] * 10000], dtype=\"float32\")\n",
    "    y_c = y - 0.5\n",
    "    return x, y, y_c\n",
    "\n",
    "x, y, y_c = prep_data()"
   ]
  },
  {
   "cell_type": "code",
   "execution_count": 3,
   "metadata": {},
   "outputs": [
    {
     "name": "stdout",
     "output_type": "stream",
     "text": [
      "X shape: (20000, 50)\n",
      "Rank of X: 50\n",
      "Number of 1: 953.0\n",
      "20000 50\n"
     ]
    }
   ],
   "source": [
    "n = 20000\n",
    "X = x[:,:]\n",
    "print(\"X shape:\", X.shape)\n",
    "print(\"Rank of X:\", np.linalg.matrix_rank(X))\n",
    "print (\"Number of 1:\",np.sum(x))\n",
    "n = X.shape[0]\n",
    "p = X.shape[1]\n",
    "print (n,p)"
   ]
  },
  {
   "cell_type": "code",
   "execution_count": 4,
   "metadata": {},
   "outputs": [],
   "source": [
    "start_time = time.clock()"
   ]
  },
  {
   "cell_type": "code",
   "execution_count": 5,
   "metadata": {},
   "outputs": [],
   "source": [
    "X_sparse = sparse.csr_matrix(X)"
   ]
  },
  {
   "cell_type": "code",
   "execution_count": 6,
   "metadata": {},
   "outputs": [
    {
     "name": "stdout",
     "output_type": "stream",
     "text": [
      "X SV: [6.324555  6.171154  6.091167  6.0882163 6.0827622 5.7486973 5.5825267\n",
      " 5.3971276 5.3917594 5.388871  5.385164  5.2915025 5.258997  5.102881\n",
      " 5.052542  5.0031204 4.9999995 4.898985  4.8989787 4.6904163 4.683336\n",
      " 4.582577  4.5481615 4.472136  4.472136  4.4501877 4.2222996 4.116715\n",
      " 4.0000014 4.        3.863798  3.6055512 3.4641018 3.4572375 3.3166246\n",
      " 3.316624  3.1622791 3.162278  3.1622767 3.0000017 2.8284268 2.6457512\n",
      " 2.6457512 2.6457512 2.4494898 2.2360685 2.        2.        1.9899907\n",
      " 1.       ] 50\n"
     ]
    }
   ],
   "source": [
    "np_SVD_result = sp.linalg.svdvals(X[:n,:])\n",
    "print(\"X SV:\", np_SVD_result, len(np_SVD_result))"
   ]
  },
  {
   "cell_type": "code",
   "execution_count": 7,
   "metadata": {},
   "outputs": [
    {
     "data": {
      "text/plain": [
       "50"
      ]
     },
     "execution_count": 7,
     "metadata": {},
     "output_type": "execute_result"
    }
   ],
   "source": [
    "min(X_sparse.shape)"
   ]
  },
  {
   "cell_type": "code",
   "execution_count": 22,
   "metadata": {},
   "outputs": [
    {
     "name": "stdout",
     "output_type": "stream",
     "text": [
      "X_sparse SV: [1.9899919 2.0000007 2.0000012 2.2360668 2.4494903 2.6457512 2.6457522\n",
      " 2.6457534 2.8284285 3.000001  3.1622775 3.1622777 3.1622777 3.3166244\n",
      " 3.3166249 3.4572365 3.464101  3.6055508 3.863798  3.9999998 4.0000005\n",
      " 4.116715  4.2223005 4.450188  4.4721355 4.472136  4.5481615 4.5825768\n",
      " 4.683335  4.6904154 4.898979  4.8989806 5.000001  5.0031214 5.052543\n",
      " 5.1028814 5.258998  5.291503  5.3851633 5.388871  5.391759  5.3971276\n",
      " 5.582526  5.7486954 6.0827646 6.0882154 6.091169  6.171153  6.324555 ]\n"
     ]
    }
   ],
   "source": [
    "sp_SVD_result = lg.svds(X_sparse, k = 49)\n",
    "print(\"X_sparse SV:\", sp_SVD_result[1])"
   ]
  },
  {
   "cell_type": "code",
   "execution_count": 23,
   "metadata": {
    "scrolled": true
   },
   "outputs": [
    {
     "name": "stdout",
     "output_type": "stream",
     "text": [
      "[39.999996, 38.08313, 37.102337, 37.066364, 37.000027, 33.047497, 31.164598, 29.128986, 29.071064, 29.039932, 28.999985, 28.000004, 27.657059, 26.039398, 25.528193, 25.031223, 25.00001, 24.000011, 23.999996, 21.999996, 21.933624, 21.00001, 20.685774, 20.0, 19.999996, 19.804174, 17.827822, 16.947342, 16.000004, 15.999998, 14.928934, 12.999996, 11.999996, 11.952484, 11.000001, 10.999997, 10.0, 10.0, 9.999999, 9.000006, 8.000008, 7.000011, 7.000005, 6.9999995, 6.000003, 4.9999948, 4.000005, 4.000003, 3.9600677]\n"
     ]
    },
    {
     "data": {
      "text/plain": [
       "207.34897661209106"
      ]
     },
     "execution_count": 23,
     "metadata": {},
     "output_type": "execute_result"
    }
   ],
   "source": [
    "print(sorted((sp_SVD_result[1])**2, reverse = True))\n",
    "sum(sp_SVD_result[1])"
   ]
  },
  {
   "cell_type": "code",
   "execution_count": 10,
   "metadata": {},
   "outputs": [
    {
     "ename": "MemoryError",
     "evalue": "",
     "traceback": [
      "\u001b[1;31m---------------------------------------------------------------------------\u001b[0m",
      "\u001b[1;31mMemoryError\u001b[0m                               Traceback (most recent call last)",
      "\u001b[1;32m<ipython-input-10-2406249b0695>\u001b[0m in \u001b[0;36m<module>\u001b[1;34m()\u001b[0m\n\u001b[1;32m----> 1\u001b[1;33m \u001b[0mXX_t\u001b[0m \u001b[1;33m=\u001b[0m \u001b[0mX\u001b[0m  \u001b[1;33m@\u001b[0m \u001b[0mX\u001b[0m\u001b[1;33m.\u001b[0m\u001b[0mT\u001b[0m\u001b[1;33m\u001b[0m\u001b[0m\n\u001b[0m\u001b[0;32m      2\u001b[0m \u001b[0mnp\u001b[0m\u001b[1;33m.\u001b[0m\u001b[0mrank\u001b[0m\u001b[1;33m(\u001b[0m\u001b[0mXX_t\u001b[0m\u001b[1;33m)\u001b[0m\u001b[1;33m\u001b[0m\u001b[0m\n",
      "\u001b[1;31mMemoryError\u001b[0m: "
     ],
     "output_type": "error"
    }
   ],
   "source": [
    "XX_t = X  @ X.T\n",
    "np.rank(XX_t)"
   ]
  },
  {
   "cell_type": "code",
   "execution_count": 30,
   "metadata": {},
   "outputs": [
    {
     "name": "stdout",
     "output_type": "stream",
     "text": [
      "[40.000046, 38.083103, 37.102306, 37.06641, 37.000004, 33.047466, 31.16462, 29.12901, 29.071089, 29.039967, 29.00002, 28.000011, 27.657043, 26.039438, 25.528227, 25.031223, 25.000021, 24.000048, 24.000046, 22.000044, 21.933662, 21.000008, 20.68579, 19.999998, 19.999977, 19.804192, 17.82785, 16.94735, 16.000042, 16.000011, 14.928942, 12.9999895, 12.000003, 11.952504, 11.000011, 10.999993, 10.000003, 10.000001, 9.999994, 8.999997, 8.000006, 7.0000005, 6.999997, 6.999996, 5.999993, 4.9999886, 4.000001, 3.9999888, 3.960064, 1.000002]\n"
     ]
    }
   ],
   "source": [
    "XX_t_sparse = X_sparse @ X_sparse.T\n",
    "#sp.rank(XX_t_sparse)\n",
    "ev_sparse = lg.eigs(XX_t_sparse, k=50)\n",
    "ev_sparse = np.real(ev_sparse[0])\n",
    "print(sorted(ev_sparse, reverse=True))"
   ]
  },
  {
   "cell_type": "code",
   "execution_count": 31,
   "metadata": {},
   "outputs": [
    {
     "data": {
      "text/plain": [
       "238.25012359023094"
      ]
     },
     "execution_count": 31,
     "metadata": {},
     "output_type": "execute_result"
    }
   ],
   "source": [
    "sum(ev_sparse / 4)"
   ]
  }
 ],
 "metadata": {
  "kernelspec": {
   "display_name": "Python 3",
   "language": "python",
   "name": "python3"
  },
  "language_info": {
   "codemirror_mode": {
    "name": "ipython",
    "version": 3
   },
   "file_extension": ".py",
   "mimetype": "text/x-python",
   "name": "python",
   "nbconvert_exporter": "python",
   "pygments_lexer": "ipython3",
   "version": "3.6.4"
  }
 },
 "nbformat": 4,
 "nbformat_minor": 2
}
